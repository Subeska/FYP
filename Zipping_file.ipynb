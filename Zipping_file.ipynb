{
  "cells": [
    {
      "cell_type": "markdown",
      "metadata": {
        "id": "view-in-github",
        "colab_type": "text"
      },
      "source": [
        "<a href=\"https://colab.research.google.com/github/Subeska/FYP/blob/main/Zipping_file.ipynb\" target=\"_parent\"><img src=\"https://colab.research.google.com/assets/colab-badge.svg\" alt=\"Open In Colab\"/></a>"
      ]
    },
    {
      "cell_type": "code",
      "execution_count": null,
      "metadata": {
        "colab": {
          "base_uri": "https://localhost:8080/"
        },
        "id": "3tVe2iOrFW62",
        "outputId": "23b42f27-337a-467c-8abd-0d045ff76ad7"
      },
      "outputs": [
        {
          "output_type": "stream",
          "name": "stdout",
          "text": [
            "Mounted at /content/drive\n"
          ]
        }
      ],
      "source": [
        "from google.colab import drive\n",
        "drive.mount(\"/content/drive\")"
      ]
    },
    {
      "cell_type": "code",
      "source": [],
      "metadata": {
        "id": "dm0_pI9njS88"
      },
      "execution_count": null,
      "outputs": []
    },
    {
      "cell_type": "code",
      "execution_count": null,
      "metadata": {
        "colab": {
          "base_uri": "https://localhost:8080/"
        },
        "id": "bDrZBFvwQ9ck",
        "outputId": "1b9d04f9-953d-4dc9-8caa-bb81e7c35517"
      },
      "outputs": [
        {
          "name": "stdout",
          "output_type": "stream",
          "text": [
            "Drive already mounted at /content/drive; to attempt to forcibly remount, call drive.mount(\"/content/drive\", force_remount=True).\n"
          ]
        }
      ],
      "source": [
        "from google.colab import drive\n",
        "drive.mount('/content/drive')"
      ]
    },
    {
      "cell_type": "code",
      "execution_count": null,
      "metadata": {
        "id": "hk-M31KmF7a-"
      },
      "outputs": [],
      "source": [
        "from zipfile import ZipFile\n",
        "import os"
      ]
    },
    {
      "cell_type": "code",
      "execution_count": null,
      "metadata": {
        "id": "rakpCaiGGCF_"
      },
      "outputs": [],
      "source": [
        "from google.colab import auth\n",
        "auth.authenticate_user()\n",
        "\n"
      ]
    },
    {
      "cell_type": "code",
      "execution_count": null,
      "metadata": {
        "id": "EppntPi5JVxz"
      },
      "outputs": [],
      "source": [
        "import os\n",
        "os.chdir('/content/drive/MyDrive/Sub-GC/data')\n"
      ]
    },
    {
      "cell_type": "code",
      "execution_count": null,
      "metadata": {
        "id": "TJ4W7FScToiH",
        "colab": {
          "base_uri": "https://localhost:8080/"
        },
        "outputId": "b3f8604d-8ccc-4280-b0ae-03723cbf7592"
      },
      "outputs": [
        {
          "output_type": "stream",
          "name": "stdout",
          "text": [
            "rm: cannot remove 'COCO_graph_mask_1000_rm_duplicate.zip': Operation not permitted\n",
            "rm: cannot remove 'COCO_sg_output_64_part1.zip': Operation not permitted\n",
            "rm: cannot remove 'COCO_sg_output_64_part2.zip': Operation not permitted\n",
            "rm: cannot remove 'COCO_sg_output_64_part3.zip': Operation not permitted\n",
            "rm: cannot remove 'cocotalk.json': Operation not permitted\n",
            "rm: cannot remove 'cocotalk_label.h5': Operation not permitted\n",
            "rm: cannot remove 'flickr30k_graph_mask_1000_rm_duplicate.zip': Operation not permitted\n",
            "rm: cannot remove 'flickr30k_gt_graph_mask.zip': Operation not permitted\n",
            "rm: cannot remove 'flickr30k_img_wh.npy': Operation not permitted\n",
            "rm: cannot remove 'flickr30k_sg_output_64.zip': Operation not permitted\n",
            "rm: cannot remove 'flickr30ktalk.json': Operation not permitted\n",
            "rm: cannot remove 'flickr30ktalk_label.h5': Operation not permitted\n",
            "rm: cannot remove 'glove.6B.300d.pt': Operation not permitted\n",
            "rm: cannot remove 'gvd_all_dict.npy': Operation not permitted\n",
            "rm: cannot remove 'sct_dict_test_grouped_gt_box.npy': Operation not permitted\n"
          ]
        }
      ],
      "source": [
        "!rm -rf *\n"
      ]
    },
    {
      "cell_type": "code",
      "execution_count": null,
      "metadata": {
        "colab": {
          "base_uri": "https://localhost:8080/"
        },
        "id": "dMkq3uj9J2-G",
        "outputId": "f4d6376b-17aa-4be5-bc11-916e8a4e0a64"
      },
      "outputs": [
        {
          "name": "stdout",
          "output_type": "stream",
          "text": [
            "  adding: consensus_reranking/ (stored 0%)\n",
            "  adding: consensus_reranking/image_features_mRNN/ (stored 0%)\n",
            "  adding: consensus_reranking/image_features_mRNN/res_feat_101_dct_mscoco_2014.npy (deflated 10%)\n",
            "  adding: consensus_reranking/image_features_mRNN/res_feat_101_dct_flickr30k.npy (deflated 10%)\n",
            "  adding: consensus_reranking/mscoco_anno_files/ (stored 0%)\n",
            "  adding: consensus_reranking/mscoco_anno_files/anno_list_mscoco_trainModelVal_m_RNN.npy (deflated 71%)\n",
            "  adding: consensus_reranking/mscoco_anno_files/karpathy_train_val_anno_list.npy (deflated 71%)\n",
            "  adding: consensus_reranking/mscoco_anno_files/flickr30k_karpathy_train_val_anno_list.npy (deflated 68%)\n",
            "  adding: grounding/ (stored 0%)\n",
            "  adding: grounding/flickr30k_cleaned_class.json (deflated 87%)\n"
          ]
        }
      ],
      "source": [
        "!zip -r /content/drive/MyDrive/Sub-GCmisc_file.zip *\n"
      ]
    },
    {
      "cell_type": "code",
      "execution_count": null,
      "metadata": {
        "colab": {
          "base_uri": "https://localhost:8080/"
        },
        "id": "vQ43XT3YUYE8",
        "outputId": "d3909b55-3aac-4372-fb4e-27bb38b6da65"
      },
      "outputs": [
        {
          "name": "stdout",
          "output_type": "stream",
          "text": [
            "  adding: consensus_reranking/ (stored 0%)\n",
            "  adding: consensus_reranking/image_features_mRNN/ (stored 0%)\n",
            "  adding: consensus_reranking/image_features_mRNN/res_feat_101_dct_mscoco_2014.npy (deflated 10%)\n",
            "  adding: consensus_reranking/image_features_mRNN/res_feat_101_dct_flickr30k.npy\n",
            "\n",
            "\n",
            "zip error: Interrupted (aborting)\n"
          ]
        }
      ],
      "source": [
        "!zip -r /content/drive/MyDrive/Sub-GCpretrained_file.zip *"
      ]
    },
    {
      "cell_type": "code",
      "execution_count": null,
      "metadata": {
        "id": "rkSKpO0GUwz4"
      },
      "outputs": [],
      "source": [
        "import os\n",
        "os.chdir('/content/drive/MyDrive/Sub-GC/pretrained')"
      ]
    },
    {
      "cell_type": "code",
      "execution_count": null,
      "metadata": {
        "colab": {
          "base_uri": "https://localhost:8080/"
        },
        "id": "uQXDkwG8U6SQ",
        "outputId": "c96e5d28-cf40-46da-ed0d-cdc5fc9c14f9"
      },
      "outputs": [
        {
          "name": "stdout",
          "output_type": "stream",
          "text": [
            "  adding: full_gc/ (stored 0%)\n",
            "  adding: full_gc/infos_topdown-33000.pkl (deflated 62%)\n",
            "  adding: full_gc/model-33000.pth (deflated 7%)\n",
            "  adding: sub_gc_flickr/ (stored 0%)\n",
            "  adding: sub_gc_flickr/model-16000.pth (deflated 7%)\n",
            "  adding: sub_gc_flickr/infos_topdown-16000.pkl (deflated 62%)\n",
            "  adding: sub_gc_karpathy/ (stored 0%)\n",
            "  adding: sub_gc_karpathy/infos_topdown-60000.pkl (deflated 62%)\n",
            "  adding: sub_gc_karpathy/model-60000.pth (deflated 7%)\n",
            "  adding: sub_gc_MRNN/ (stored 0%)\n",
            "  adding: sub_gc_MRNN/model-60000.pth (deflated 7%)\n",
            "  adding: sub_gc_MRNN/infos_topdown-60000.pkl (deflated 62%)\n",
            "  adding: sub_gc_sup_flickr/ (stored 0%)\n",
            "  adding: sub_gc_sup_flickr/infos_topdown-16000.pkl (deflated 62%)\n",
            "  adding: sub_gc_sup_flickr/model-16000.pth (deflated 7%)\n"
          ]
        }
      ],
      "source": [
        "!zip -r /content/drive/MyDrive/Sub-GC-pretrained_file.zip *"
      ]
    },
    {
      "cell_type": "code",
      "execution_count": null,
      "metadata": {
        "id": "iwVUSn5tVe8z"
      },
      "outputs": [],
      "source": [
        "import os\n",
        "os.chdir('/content/drive/MyDrive/Sub-GC/data')\n"
      ]
    },
    {
      "cell_type": "code",
      "execution_count": null,
      "metadata": {
        "colab": {
          "background_save": true,
          "base_uri": "https://localhost:8080/"
        },
        "id": "tFScob9cXQGi",
        "outputId": "bda181fc-247d-4f4a-b66a-c075dfcb855b"
      },
      "outputs": [
        {
          "name": "stdout",
          "output_type": "stream",
          "text": [
            "  adding: COCO_graph_mask_1000_rm_duplicate.zip (stored 0%)\n",
            "  adding: COCO_sg_output_64_part1.zip\n",
            "zip I/O error: No space left on device\n",
            "zip error: Output file write failure (write error on zip file)\n"
          ]
        }
      ],
      "source": [
        "!zip -r /content/drive/MyDrive/Sub-GCdata1_file.zip *"
      ]
    },
    {
      "cell_type": "code",
      "execution_count": null,
      "metadata": {
        "colab": {
          "base_uri": "https://localhost:8080/"
        },
        "id": "zpWcu1TxTqh1",
        "outputId": "5772bc9b-386d-41ab-97f5-7ee306f271a5"
      },
      "outputs": [
        {
          "name": "stdout",
          "output_type": "stream",
          "text": [
            "\n",
            "zip error: Nothing to do! (/content/drive/MyDrive/Sub-GC_data_file.zip)\n"
          ]
        }
      ],
      "source": [
        "!zip -r /content/drive/MyDrive/Sub-GC_data_file.zip"
      ]
    },
    {
      "cell_type": "code",
      "source": [
        "!zip /content/drive/MyDrive/Data.zip COCO_graph_mask_1000_rm_duplicate.zip cocotalk.json cocotalk_label.h5 flickr30k_graph_mask_1000_rm_duplicate.zip flickr30k_gt_graph_mask.zip flickr30k_img_wh.npy flickr30k_sg_output_64.zip flickr30ktalk.json flickr30ktalk_label.h5 glove.6B.300d.pt gvd_all_dict.npy sct_dict_test_grouped_gt_box.npy"
      ],
      "metadata": {
        "colab": {
          "base_uri": "https://localhost:8080/"
        },
        "id": "8I-aoTQRNvdm",
        "outputId": "eb96fafd-7547-464f-dcd3-97dae6c1323c"
      },
      "execution_count": null,
      "outputs": [
        {
          "output_type": "stream",
          "name": "stdout",
          "text": [
            "\tzip warning: name not matched: COCO_graph_mask_1000_rm_duplicate.zip\n",
            "\tzip warning: name not matched: cocotalk.json\n",
            "\tzip warning: name not matched: cocotalk_label.h5\n",
            "\tzip warning: name not matched: flickr30k_graph_mask_1000_rm_duplicate.zip\n",
            "\tzip warning: name not matched: flickr30k_gt_graph_mask.zip\n",
            "\tzip warning: name not matched: flickr30k_img_wh.npy\n",
            "\tzip warning: name not matched: flickr30k_sg_output_64.zip\n",
            "\tzip warning: name not matched: flickr30ktalk.json\n",
            "\tzip warning: name not matched: flickr30ktalk_label.h5\n",
            "\tzip warning: name not matched: glove.6B.300d.pt\n",
            "\tzip warning: name not matched: gvd_all_dict.npy\n",
            "\tzip warning: name not matched: sct_dict_test_grouped_gt_box.npy\n",
            "\n",
            "zip error: Nothing to do! (/content/drive/MyDrive/Data.zip)\n"
          ]
        }
      ]
    },
    {
      "cell_type": "code",
      "source": [
        "!pip install zipfile36 # Install the zipfile library\n",
        "\n",
        "import zipfile\n",
        "\n",
        "# Create a ZipFile object\n",
        "zip_file = zipfile.ZipFile(\"/content/drive/MyDrive/Data.zip\", 'w')\n",
        "\n",
        "# Add multiple files to the zip file\n",
        "zip_file.write('/content/drive/MyDrive/Sub-GC/data/COCO_graph_mask_1000_rm_duplicate.zip')\n",
        "zip_file.write('/content/drive/MyDrive/Sub-GC/data/cocotalk.json')\n",
        "zip_file.write('/content/drive/MyDrive/Sub-GC/data/cocotalk_label.h5')\n",
        "zip_file.write('/content/drive/MyDrive/Sub-GC/data/flickr30k_graph_mask_1000_rm_duplicate.zip')\n",
        "zip_file.write('/content/drive/MyDrive/Sub-GC/data/flickr30k_gt_graph_mask.zip')\n",
        "zip_file.write('/content/drive/MyDrive/Sub-GC/data/flickr30k_img_wh.npy')\n",
        "zip_file.write('/content/drive/MyDrive/Sub-GC/data/flickr30k_sg_output_64.zip')\n",
        "zip_file.write('/content/drive/MyDrive/Sub-GC/data/flickr30ktalk.json')\n",
        "zip_file.write('/content/drive/MyDrive/Sub-GC/data/flickr30ktalk_label.h5')\n",
        "zip_file.write('/content/drive/MyDrive/Sub-GC/data/glove.6B.300d.pt')\n",
        "zip_file.write('/content/drive/MyDrive/Sub-GC/data/gvd_all_dict.npy')\n",
        "zip_file.write('/content/drive/MyDrive/Sub-GC/data/sct_dict_test_grouped_gt_box.npy')\n",
        "\n",
        "# Close the zip file\n",
        "zip_file.close()"
      ],
      "metadata": {
        "colab": {
          "base_uri": "https://localhost:8080/"
        },
        "id": "nW5rhoIzQCNA",
        "outputId": "16fc54d7-5c20-4cfb-e76f-80f9662ddae4"
      },
      "execution_count": null,
      "outputs": [
        {
          "output_type": "stream",
          "name": "stdout",
          "text": [
            "Looking in indexes: https://pypi.org/simple, https://us-python.pkg.dev/colab-wheels/public/simple/\n",
            "Requirement already satisfied: zipfile36 in /usr/local/lib/python3.8/dist-packages (0.1.3)\n"
          ]
        }
      ]
    }
  ],
  "metadata": {
    "colab": {
      "provenance": [],
      "authorship_tag": "ABX9TyNw/xPmorkKIdOlBuInFDea",
      "include_colab_link": true
    },
    "kernelspec": {
      "display_name": "Python 3",
      "name": "python3"
    },
    "language_info": {
      "name": "python"
    }
  },
  "nbformat": 4,
  "nbformat_minor": 0
}